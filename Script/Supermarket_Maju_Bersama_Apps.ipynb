{
 "cells": [
  {
   "cell_type": "code",
   "execution_count": 36,
   "metadata": {},
   "outputs": [],
   "source": [
    "from Journey_Customer_Editing import Editing_tools\n",
    "from Journey_Customer_Baseline import Transaction\n",
    "from CustomerJourney_GUI import TransactionGUI"
   ]
  },
  {
   "attachments": {},
   "cell_type": "markdown",
   "metadata": {},
   "source": [
    "### Menambahkan Barang/Item"
   ]
  },
  {
   "cell_type": "code",
   "execution_count": 9,
   "metadata": {},
   "outputs": [],
   "source": [
    "customer = Editing_tools('Beben_01')\n",
    "customer.add_item('Pepsodent', 3, 8000)"
   ]
  },
  {
   "cell_type": "markdown",
   "metadata": {},
   "source": [
    "### Checking Item"
   ]
  },
  {
   "cell_type": "code",
   "execution_count": 10,
   "metadata": {},
   "outputs": [
    {
     "data": {
      "text/plain": [
       "{'Pepsodent': [3, 8000]}"
      ]
     },
     "execution_count": 10,
     "metadata": {},
     "output_type": "execute_result"
    }
   ],
   "source": [
    "customer.nama_item"
   ]
  },
  {
   "cell_type": "code",
   "execution_count": 11,
   "metadata": {},
   "outputs": [],
   "source": [
    "customer.add_item('Sarden', 2, 12000)\n",
    "customer.add_item('Beras Grade B', 1, 150000)\n",
    "customer.add_item('Sabun Cair', 2, 40000)\n",
    "customer.add_item('Rinso', 3, 18000)\n",
    "customer.add_item('Mie Instans indiemie', 12, 3500)\n",
    "customer.add_item('Chitatoz', 2, 20000)"
   ]
  },
  {
   "attachments": {},
   "cell_type": "markdown",
   "metadata": {},
   "source": [
    "### Checking Item again"
   ]
  },
  {
   "cell_type": "code",
   "execution_count": 12,
   "metadata": {},
   "outputs": [
    {
     "data": {
      "text/plain": [
       "{'Pepsodent': [3, 8000],\n",
       " 'Sarden': [2, 12000],\n",
       " 'Beras Grade B': [1, 150000],\n",
       " 'Sabun Cair': [2, 40000],\n",
       " 'Rinso': [3, 18000],\n",
       " 'Mie Instans indiemie': [12, 3500],\n",
       " 'Chitatoz': [2, 20000]}"
      ]
     },
     "execution_count": 12,
     "metadata": {},
     "output_type": "execute_result"
    }
   ],
   "source": [
    "customer.nama_item"
   ]
  },
  {
   "attachments": {},
   "cell_type": "markdown",
   "metadata": {},
   "source": [
    "### Update nama item"
   ]
  },
  {
   "cell_type": "code",
   "execution_count": 13,
   "metadata": {},
   "outputs": [],
   "source": [
    "customer.update_name_item('Mie Instans indiemie', 'Mie Instan sedapz')"
   ]
  },
  {
   "cell_type": "code",
   "execution_count": 14,
   "metadata": {},
   "outputs": [
    {
     "data": {
      "text/plain": [
       "{'Pepsodent': [3, 8000],\n",
       " 'Sarden': [2, 12000],\n",
       " 'Beras Grade B': [1, 150000],\n",
       " 'Sabun Cair': [2, 40000],\n",
       " 'Rinso': [3, 18000],\n",
       " 'Chitatoz': [2, 20000],\n",
       " 'Mie Instan sedapz': [12, 3500]}"
      ]
     },
     "execution_count": 14,
     "metadata": {},
     "output_type": "execute_result"
    }
   ],
   "source": [
    "customer.nama_item"
   ]
  },
  {
   "attachments": {},
   "cell_type": "markdown",
   "metadata": {},
   "source": [
    "## Update jumlah item dan harga"
   ]
  },
  {
   "cell_type": "code",
   "execution_count": 15,
   "metadata": {},
   "outputs": [],
   "source": [
    "customer.update_jumlah_item('Pepsodent', 2)\n",
    "customer.update_harga('Chitatoz', 18000)"
   ]
  },
  {
   "cell_type": "code",
   "execution_count": 16,
   "metadata": {},
   "outputs": [
    {
     "data": {
      "text/plain": [
       "{'Pepsodent': [2, 8000],\n",
       " 'Sarden': [2, 12000],\n",
       " 'Beras Grade B': [1, 150000],\n",
       " 'Sabun Cair': [2, 40000],\n",
       " 'Rinso': [3, 18000],\n",
       " 'Chitatoz': [2, 18000],\n",
       " 'Mie Instan sedapz': [12, 3500]}"
      ]
     },
     "execution_count": 16,
     "metadata": {},
     "output_type": "execute_result"
    }
   ],
   "source": [
    "customer.nama_item"
   ]
  },
  {
   "attachments": {},
   "cell_type": "markdown",
   "metadata": {},
   "source": [
    "### Deleting item"
   ]
  },
  {
   "cell_type": "code",
   "execution_count": 17,
   "metadata": {},
   "outputs": [
    {
     "name": "stdout",
     "output_type": "stream",
     "text": [
      "Item Sarden berhasil dihapus.\n"
     ]
    }
   ],
   "source": [
    "customer.delete_item('Sarden')"
   ]
  },
  {
   "cell_type": "code",
   "execution_count": 18,
   "metadata": {},
   "outputs": [
    {
     "data": {
      "text/plain": [
       "{'Pepsodent': [2, 8000],\n",
       " 'Beras Grade B': [1, 150000],\n",
       " 'Sabun Cair': [2, 40000],\n",
       " 'Rinso': [3, 18000],\n",
       " 'Chitatoz': [2, 18000],\n",
       " 'Mie Instan sedapz': [12, 3500]}"
      ]
     },
     "execution_count": 18,
     "metadata": {},
     "output_type": "execute_result"
    }
   ],
   "source": [
    "customer.nama_item"
   ]
  },
  {
   "cell_type": "code",
   "execution_count": 20,
   "metadata": {},
   "outputs": [
    {
     "data": {
      "text/plain": [
       "('Total belanjaan anda sebesar Rp. 378000', '8%', 347760.0, 378000)"
      ]
     },
     "execution_count": 20,
     "metadata": {},
     "output_type": "execute_result"
    }
   ],
   "source": [
    "customer.total_price()"
   ]
  },
  {
   "attachments": {},
   "cell_type": "markdown",
   "metadata": {},
   "source": [
    "### Cetak Receipt Belanjaan"
   ]
  },
  {
   "cell_type": "code",
   "execution_count": 21,
   "metadata": {},
   "outputs": [
    {
     "name": "stdout",
     "output_type": "stream",
     "text": [
      "===== Struk Belanjaan =====\n",
      "ID Customer: Beben_01\n",
      "Item       Jumlah     Harga     \n",
      "Pepsodent  2          8000      \n",
      "Beras Grade B 1          150000    \n",
      "Sabun Cair 2          40000     \n",
      "Rinso      3          18000     \n",
      "Chitatoz   2          18000     \n",
      "Mie Instan sedapz 12         3500      \n",
      "Total Harga          378000    \n",
      "Diskon               8%\n",
      "Total Harga Setelah Diskon 347760.0  \n",
      "==========================\n"
     ]
    }
   ],
   "source": [
    "customer.print_receipt()"
   ]
  },
  {
   "attachments": {},
   "cell_type": "markdown",
   "metadata": {},
   "source": [
    "## Menggunakan GUI Interaktif"
   ]
  },
  {
   "cell_type": "code",
   "execution_count": 37,
   "metadata": {},
   "outputs": [],
   "source": [
    "# membuat instance dari class TransactionGUI\n",
    "root = tk.Tk()\n",
    "app = TransactionGUI(root)\n",
    "\n",
    "# menjalankan mainloop dari tkinter\n",
    "root.mainloop()"
   ]
  }
 ],
 "metadata": {
  "kernelspec": {
   "display_name": "base",
   "language": "python",
   "name": "python3"
  },
  "language_info": {
   "codemirror_mode": {
    "name": "ipython",
    "version": 3
   },
   "file_extension": ".py",
   "mimetype": "text/x-python",
   "name": "python",
   "nbconvert_exporter": "python",
   "pygments_lexer": "ipython3",
   "version": "3.9.12"
  },
  "orig_nbformat": 4
 },
 "nbformat": 4,
 "nbformat_minor": 2
}
